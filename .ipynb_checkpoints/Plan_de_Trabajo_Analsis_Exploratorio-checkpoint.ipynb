{
 "cells": [
  {
   "cell_type": "markdown",
   "id": "ece36e57-47df-45d7-9b1a-7a6508a52b53",
   "metadata": {},
   "source": [
    "# 📈 Predicción de Tasa de Cancelación de Clientes para Interconnect"
   ]
  },
  {
   "cell_type": "markdown",
   "id": "ce2a1411-86f5-468c-b55e-2290527f3b35",
   "metadata": {
    "collapsed": true,
    "jupyter": {
     "outputs_hidden": true
    }
   },
   "source": [
    "\n",
    "\n",
    "## Introducción\n",
    "\n",
    "El operador de telecomunicaciones Interconnect busca anticiparse a la cancelación de sus clientes. Con esta previsión, pretende implementar estrategias efectivas de retención, como ofertas personalizadas, códigos promocionales y opciones de planes especiales. Este proyecto se centra en construir un modelo de machine learning que permita pronosticar la tasa de cancelación de clientes, basándonos en un conjunto de datos que contiene información detallada sobre contratos, servicios y datos personales de los clientes de Interconnect.\n",
    "\n",
    "### Objetivos del Proyecto\n",
    "\n",
    "1. **Predecir la Cancelación de Clientes**: Utilizar técnicas avanzadas de machine learning para identificar patrones de comportamiento que preceden la cancelación.\n",
    "2. **Mejorar la Retención de Clientes**: Facilitar al equipo de marketing la identificación temprana de clientes en riesgo, permitiendo la intervención oportuna mediante promociones y ajustes de planes.\n",
    "3. **Optimizar la Toma de Decisiones**: Proporcionar una herramienta predictiva que permita a Interconnect asignar recursos de manera eficiente y priorizar la retención de clientes valiosos.\n",
    "\n",
    "### Estructura del Notebook\n",
    "\n",
    "1. **Preparación de Datos**: Limpieza y procesamiento de los datos para asegurar su calidad.\n",
    "2. **Análisis Exploratorio de Datos (EDA)**: Visualización y análisis para identificar patrones y correlaciones.\n",
    "3. **Ingeniería de Características**: Creación de nuevas variables para mejorar el rendimiento predictivo.\n",
    "4. **Entrenamiento y Validación del Modelo**: Prueba de diferentes algoritmos de machine learning y ajuste de hiperparámetros para seleccionar el modelo óptimo.\n",
    "5. **Evaluación del Modelo**: Análisis de las métricas para validar la efectividad del modelo.\n",
    "6. **Resultados y Recomendaciones**: Interpretación de los resultados y propuestas para estrategias de retención de clientes basadas en las predicciones obtenidas.\n",
    "\n",
    "Este notebook proporcionará una guía completa para la predicción de cancelación de clientes en Interconnect, desde el análisis inicial hasta la recomendación final. ¡Comencemos!"
   ]
  },
  {
   "cell_type": "markdown",
   "id": "bbe8aefd-f6b2-4a04-92e0-b327f9e00748",
   "metadata": {},
   "source": [
    "## 1.- Exploración de datos"
   ]
  },
  {
   "cell_type": "code",
   "execution_count": 1,
   "id": "2bc68bf3-2ad8-42f9-b6bb-2cb474228e27",
   "metadata": {},
   "outputs": [],
   "source": [
    "# Importa librerías necesarias\n",
    "import pandas as pd\n",
    "import numpy as np\n",
    "import matplotlib.pyplot as plt\n",
    "import seaborn as sns\n",
    "from sklearn.model_selection import train_test_split, cross_val_score, GridSearchCV\n",
    "from sklearn.preprocessing import LabelEncoder, StandardScaler\n",
    "from sklearn.ensemble import RandomForestClassifier\n",
    "from sklearn.metrics import accuracy_score, confusion_matrix, classification_report\n",
    "from sklearn.preprocessing import OneHotEncoder"
   ]
  },
  {
   "cell_type": "code",
   "execution_count": 8,
   "id": "362d4c37-5a67-4679-8967-33073b12da74",
   "metadata": {},
   "outputs": [],
   "source": [
    "# Función para cargar datos con manejo de errores\n",
    "def load_data(file_name):\n",
    "    file_path = f\"files/datasets/input/{file_name}\"\n",
    "    try:\n",
    "        data = pd.read_csv(file_path)\n",
    "        print(f\"Data loaded successfully from {file_path}\")\n",
    "        return data\n",
    "    except Exception as e:\n",
    "        print(f\"Error: File {file_path} not found.\")\n",
    "        return None"
   ]
  },
  {
   "cell_type": "code",
   "execution_count": 16,
   "id": "bceb9d3e-0002-4e96-b164-638867d47c44",
   "metadata": {},
   "outputs": [],
   "source": [
    "# Cargar cada archivo CSV en un DataFrame\n",
    "contract_data = pd.read_csv('./Data/contract.csv')\n",
    "personal_data = pd.read_csv('./Data/personal.csv')\n",
    "internet_data = pd.read_csv('./Data/internet.csv')\n",
    "phone_data = pd.read_csv('./Data/phone.csv')"
   ]
  },
  {
   "cell_type": "code",
   "execution_count": 17,
   "id": "919b2d9f-0921-4660-8dfc-9149e915cf17",
   "metadata": {},
   "outputs": [],
   "source": [
    "# Verifica si los datos se cargaron correctamente\n",
    "if contract_data is not None and personal_data is not None and internet_data is not None and phone_data is not None:\n",
    "    # Une los datos en un solo DataFrame\n",
    "    merged_data = pd.merge(contract_data, personal_data, on='customerID', how='inner')\n",
    "    merged_data = pd.merge(merged_data, internet_data, on='customerID', how='left')\n",
    "    merged_data = pd.merge(merged_data, phone_data, on='customerID', how='left')"
   ]
  },
  {
   "cell_type": "markdown",
   "id": "7f5b0359-886e-40f0-8283-1ac4bb2e3cbb",
   "metadata": {},
   "source": [
    "### Descripción de los Datos\n",
    "\n",
    "El análisis se llevará a cabo utilizando cuatro conjuntos de datos proporcionados por Interconnect:\n",
    "\n",
    "- **`contract.csv`**: Información sobre el contrato del cliente, incluyendo duración, tipo de contrato y método de pago.\n",
    "- **`personal.csv`**: Datos demográficos del cliente, como edad, género y estado civil.\n",
    "- **`internet.csv`**: Información sobre el tipo de conexión a Internet y servicios adicionales contratados.\n",
    "- **`phone.csv`**: Detalles sobre los servicios de telefonía fija y opciones de multilínea.\n",
    "\n",
    "Cada archivo incluye una columna de ID única (`customerID`) que nos permitirá fusionar y analizar la información de manera integral.\n",
    "\n",
    "### Enfoque y Métricas\n",
    "\n",
    "Este proyecto se abordará en varias etapas, desde la recolección y preparación de datos hasta el modelado y la evaluación. El objetivo es lograr un modelo predictivo robusto, utilizando como métrica principal el **AUC-ROC** (Area Under the Receiver Operating Characteristic Curve) y, como métrica adicional, la **exactitud**. Una puntuación AUC-ROC superior a 0.88 se considera ideal para el éxito de este proyecto."
   ]
  },
  {
   "cell_type": "code",
   "execution_count": 18,
   "id": "7f9664da-61e8-4a22-8f01-971a109dea88",
   "metadata": {},
   "outputs": [
    {
     "data": {
      "text/plain": [
       "<bound method DataFrame.info of       customerID   BeginDate              EndDate            Type  \\\n",
       "0     7590-VHVEG  2020-01-01                   No  Month-to-month   \n",
       "1     5575-GNVDE  2017-04-01                   No        One year   \n",
       "2     3668-QPYBK  2019-10-01  2019-12-01 00:00:00  Month-to-month   \n",
       "3     7795-CFOCW  2016-05-01                   No        One year   \n",
       "4     9237-HQITU  2019-09-01  2019-11-01 00:00:00  Month-to-month   \n",
       "...          ...         ...                  ...             ...   \n",
       "7038  6840-RESVB  2018-02-01                   No        One year   \n",
       "7039  2234-XADUH  2014-02-01                   No        One year   \n",
       "7040  4801-JZAZL  2019-03-01                   No  Month-to-month   \n",
       "7041  8361-LTMKD  2019-07-01  2019-11-01 00:00:00  Month-to-month   \n",
       "7042  3186-AJIEK  2014-08-01                   No        Two year   \n",
       "\n",
       "     PaperlessBilling              PaymentMethod  MonthlyCharges TotalCharges  \\\n",
       "0                 Yes           Electronic check           29.85        29.85   \n",
       "1                  No               Mailed check           56.95       1889.5   \n",
       "2                 Yes               Mailed check           53.85       108.15   \n",
       "3                  No  Bank transfer (automatic)           42.30      1840.75   \n",
       "4                 Yes           Electronic check           70.70       151.65   \n",
       "...               ...                        ...             ...          ...   \n",
       "7038              Yes               Mailed check           84.80       1990.5   \n",
       "7039              Yes    Credit card (automatic)          103.20       7362.9   \n",
       "7040              Yes           Electronic check           29.60       346.45   \n",
       "7041              Yes               Mailed check           74.40        306.6   \n",
       "7042              Yes  Bank transfer (automatic)          105.65       6844.5   \n",
       "\n",
       "      gender  SeniorCitizen Partner Dependents InternetService OnlineSecurity  \\\n",
       "0     Female              0     Yes         No             DSL             No   \n",
       "1       Male              0      No         No             DSL            Yes   \n",
       "2       Male              0      No         No             DSL            Yes   \n",
       "3       Male              0      No         No             DSL            Yes   \n",
       "4     Female              0      No         No     Fiber optic             No   \n",
       "...      ...            ...     ...        ...             ...            ...   \n",
       "7038    Male              0     Yes        Yes             DSL            Yes   \n",
       "7039  Female              0     Yes        Yes     Fiber optic             No   \n",
       "7040  Female              0     Yes        Yes             DSL            Yes   \n",
       "7041    Male              1     Yes         No     Fiber optic             No   \n",
       "7042    Male              0      No         No     Fiber optic            Yes   \n",
       "\n",
       "     OnlineBackup DeviceProtection TechSupport StreamingTV StreamingMovies  \\\n",
       "0             Yes               No          No          No              No   \n",
       "1              No              Yes          No          No              No   \n",
       "2             Yes               No          No          No              No   \n",
       "3              No              Yes         Yes          No              No   \n",
       "4              No               No          No          No              No   \n",
       "...           ...              ...         ...         ...             ...   \n",
       "7038           No              Yes         Yes         Yes             Yes   \n",
       "7039          Yes              Yes          No         Yes             Yes   \n",
       "7040           No               No          No          No              No   \n",
       "7041           No               No          No          No              No   \n",
       "7042           No              Yes         Yes         Yes             Yes   \n",
       "\n",
       "     MultipleLines  \n",
       "0              NaN  \n",
       "1               No  \n",
       "2               No  \n",
       "3              NaN  \n",
       "4               No  \n",
       "...            ...  \n",
       "7038           Yes  \n",
       "7039           Yes  \n",
       "7040           NaN  \n",
       "7041           Yes  \n",
       "7042            No  \n",
       "\n",
       "[7043 rows x 20 columns]>"
      ]
     },
     "metadata": {},
     "output_type": "display_data"
    }
   ],
   "source": [
    "# Muestra información sobre los datos cargados\n",
    "display(merged_data.info)"
   ]
  },
  {
   "cell_type": "code",
   "execution_count": null,
   "id": "54d0312e-3550-4baf-b962-8af135cd9511",
   "metadata": {},
   "outputs": [],
   "source": []
  }
 ],
 "metadata": {
  "kernelspec": {
   "display_name": "Python 3 (ipykernel)",
   "language": "python",
   "name": "python3"
  },
  "language_info": {
   "codemirror_mode": {
    "name": "ipython",
    "version": 3
   },
   "file_extension": ".py",
   "mimetype": "text/x-python",
   "name": "python",
   "nbconvert_exporter": "python",
   "pygments_lexer": "ipython3",
   "version": "3.12.2"
  }
 },
 "nbformat": 4,
 "nbformat_minor": 5
}
